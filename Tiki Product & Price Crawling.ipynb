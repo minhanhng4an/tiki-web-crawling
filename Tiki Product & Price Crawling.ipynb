{
 "cells": [
  {
   "cell_type": "markdown",
   "metadata": {},
   "source": [
    "# Tiki Product & Price Crawling"
   ]
  },
  {
   "cell_type": "code",
   "execution_count": 2,
   "metadata": {},
   "outputs": [],
   "source": [
    "# Import libraries\n",
    "import pandas as pd\n",
    "import requests\n",
    "from bs4 import BeautifulSoup\n",
    "from datalab.context import Context\n",
    "import google.datalab.storage as storage\n",
    "import google.datalab.bigquery as bq\n",
    "import time\n",
    "from io import BytesIO"
   ]
  },
  {
   "cell_type": "code",
   "execution_count": 3,
   "metadata": {
    "codeCollapsed": false
   },
   "outputs": [
    {
     "name": "stdout",
     "output_type": "stream",
     "text": [
      "Bucket: tiki-web-crawler-datalab\n",
      "Object: gs://tiki-web-crawler-datalab/tiki.csv\n"
     ]
    }
   ],
   "source": [
    "# Set project variables\n",
    "project = Context.default().project_id\n",
    "bucket_name = project + '-datalab'\n",
    "bucket_path = 'gs://' + bucket_name\n",
    "bucket_object = bucket_path + '/tiki.csv'\n",
    "print('Bucket: ' + bucket_name)\n",
    "print('Object: ' + bucket_object)"
   ]
  },
  {
   "cell_type": "code",
   "execution_count": 4,
   "metadata": {},
   "outputs": [],
   "source": [
    "# Read bucket_object (csv)\n",
    "%gcs read --object 'gs://tiki-web-crawler-datalab/tiki.csv' --variable csv_as_bytes"
   ]
  },
  {
   "cell_type": "code",
   "execution_count": 5,
   "metadata": {},
   "outputs": [
    {
     "name": "stdout",
     "output_type": "stream",
     "text": [
      "<class 'pandas.core.frame.DataFrame'>\n",
      "RangeIndex: 96 entries, 0 to 95\n",
      "Data columns (total 2 columns):\n",
      "product        96 non-null object\n",
      "price_fixed    96 non-null int64\n",
      "dtypes: int64(1), object(1)\n",
      "memory usage: 1.6+ KB\n"
     ]
    }
   ],
   "source": [
    "# Open bucket_object as pd.DataFrame\n",
    "df = pd.read_csv(BytesIO(csv_as_bytes))\n",
    "df.info()"
   ]
  },
  {
   "cell_type": "code",
   "execution_count": 6,
   "metadata": {},
   "outputs": [],
   "source": [
    "# Create array for product title & price\n",
    "title = []\n",
    "price = []"
   ]
  },
  {
   "cell_type": "code",
   "execution_count": 7,
   "metadata": {},
   "outputs": [],
   "source": [
    "# Web scrap function\n",
    "def scrap(WebUrl):\n",
    "    # Web URL\n",
    "    url = WebUrl\n",
    "    \n",
    "    # Plain HTML code\n",
    "    plain = requests.get(url).text\n",
    "    \n",
    "    # Parser\n",
    "    s = BeautifulSoup(plain, \"html.parser\")\n",
    "    \n",
    "    # Find and add product titles to array\n",
    "    for i in s.findAll('p',{'class':'title'}):\n",
    "        title.append(i.text.strip())\n",
    "        \n",
    "    # Find and add product price to aray    \n",
    "    for i in s.findAll('span',{'class':'final-price'}):\n",
    "        price.append(i.text.split()[0])"
   ]
  },
  {
   "cell_type": "code",
   "execution_count": 8,
   "metadata": {},
   "outputs": [],
   "source": [
    "# Run Web scrap function\n",
    "scrap('https://tiki.vn/dien-thoai-may-tinh-bang/c1789?src=mega-menu&page=3')"
   ]
  },
  {
   "cell_type": "code",
   "execution_count": 18,
   "metadata": {},
   "outputs": [
    {
     "name": "stdout",
     "output_type": "stream",
     "text": [
      "<class 'pandas.core.frame.DataFrame'>\n",
      "RangeIndex: 48 entries, 0 to 47\n",
      "Data columns (total 2 columns):\n",
      "price      48 non-null object\n",
      "product    48 non-null object\n",
      "dtypes: object(2)\n",
      "memory usage: 848.0+ bytes\n"
     ]
    }
   ],
   "source": [
    "# Create new dataframe from arrays\n",
    "data = {'product':title,'price':price}\n",
    "df_new = pd.DataFrame(data)\n",
    "df_new.info()"
   ]
  },
  {
   "cell_type": "code",
   "execution_count": 10,
   "metadata": {},
   "outputs": [],
   "source": [
    "# Fix Price\n",
    "def fix_price(x):\n",
    "  x = x.split('.')\n",
    "  x = ''.join(x)\n",
    "  return int(x)\n",
    "df_new['price_fixed'] = df_new['price'].apply(fix_price)"
   ]
  },
  {
   "cell_type": "code",
   "execution_count": 11,
   "metadata": {},
   "outputs": [],
   "source": [
    "# Update bucket_object data with new data\n",
    "df_to_bigquery = df.append(df_new[['product','price_fixed']],ignore_index=True)\n",
    "df_to_bigquery.info()"
   ]
  },
  {
   "cell_type": "code",
   "execution_count": null,
   "metadata": {},
   "outputs": [],
   "source": [
    "# Version 1 - Long load time\n",
    "# start = time.time()\n",
    "# df_to_bigquery.to_gbq('tiki_dataset.tiki_table', \n",
    "#                  Context.default().project_id,\n",
    "#                  chunksize=10000, \n",
    "#                  if_exists='replace',\n",
    "#                  verbose=False)\n",
    "# end = time.time()\n",
    "# print('Task completed in: {}'.format(end-start))"
   ]
  },
  {
   "cell_type": "code",
   "execution_count": null,
   "metadata": {},
   "outputs": [],
   "source": [
    "# Version 2  - Not working\n",
    "# bucket_name = Context.default().project_id + '-datalab'\n",
    "# bucket_path = 'gs://' + bucket_name\n",
    "# bucket_object = bucket_path + '/tiki_crawler.txt'\n",
    "# bigquery_dataset_name = 'tiki_dataset'\n",
    "# bigquery_table_name = 'tiki_table'\n",
    "\n",
    "# # Define storage bucket\n",
    "# bucket = storage.Bucket(bucket_name)\n",
    "\n",
    "# # Create storage bucket if it does not exist\n",
    "# if not bucket.exists():\n",
    "#     bucket.create()\n",
    "\n",
    "# dataset = bq.Dataset(bigquery_dataset_name)\n",
    "# table = bq.Table(bigquery_dataset_name + '.' + bigquery_table_name)\n",
    "\n",
    "# # Create BigQuery dataset\n",
    "# if not dataset.exists():\n",
    "#     dataset.create()\n",
    "\n",
    "# # Create or overwrite the existing table if it exists\n",
    "# table_schema = bq.Schema.from_data(df_to_bigquery)\n",
    "# table.create(schema = table_schema, overwrite = True)\n",
    "\n",
    "# # Write the DataFrame to GCS (Google Cloud Storage)\n",
    "# %storage write --variable df_to_bigquery --object $bucket_object\n",
    "\n",
    "# # Write the DataFrame to a BigQuery table\n",
    "# table.insert(df_to_bigquery)"
   ]
  },
  {
   "cell_type": "code",
   "execution_count": 15,
   "metadata": {},
   "outputs": [
    {
     "name": "stdout",
     "output_type": "stream",
     "text": [
      "Copying file://tiki.csv [Content-Type=text/csv]...\n",
      "/ [1 files][  8.3 KiB/  8.3 KiB]                                                \n",
      "Operation completed over 1 objects/8.3 KiB.                                      \n"
     ]
    }
   ],
   "source": [
    "# Replace old bucket_object with new one\n",
    "df_to_bigquery.to_csv('tiki.csv',index=False)\n",
    "\n",
    "!gsutil cp 'tiki.csv' $bucket_object"
   ]
  },
  {
   "cell_type": "code",
   "execution_count": null,
   "metadata": {},
   "outputs": [],
   "source": [
    "# Update new bucket_object to BigQuery"
   ]
  },
  {
   "cell_type": "code",
   "execution_count": 17,
   "metadata": {},
   "outputs": [],
   "source": [
    "%%bq load --mode overwrite --path $bucket_object --table tiki_dataset.tiki_table --skip 1"
   ]
  }
 ],
 "metadata": {
  "kernelspec": {
   "display_name": "Python 3",
   "language": "python",
   "name": "python3"
  },
  "language_info": {
   "codemirror_mode": {
    "name": "ipython",
    "version": 3
   },
   "file_extension": ".py",
   "mimetype": "text/x-python",
   "name": "python",
   "nbconvert_exporter": "python",
   "pygments_lexer": "ipython3",
   "version": "3.5.6"
  }
 },
 "nbformat": 4,
 "nbformat_minor": 2
}
