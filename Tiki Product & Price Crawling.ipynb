{
 "cells": [
  {
   "cell_type": "markdown",
   "metadata": {},
   "source": [
    "# Tiki Product & Price Crawling"
   ]
  },
  {
   "cell_type": "code",
   "execution_count": 195,
   "metadata": {},
   "outputs": [],
   "source": [
    "# Import libraries\n",
    "import pandas as pd\n",
    "import requests\n",
    "from bs4 import BeautifulSoup"
   ]
  },
  {
   "cell_type": "code",
   "execution_count": 188,
   "metadata": {},
   "outputs": [],
   "source": [
    "# Create array for product title & price\n",
    "title = []\n",
    "price = []"
   ]
  },
  {
   "cell_type": "code",
   "execution_count": 194,
   "metadata": {},
   "outputs": [],
   "source": [
    "# Web scrap function\n",
    "def scrap(WebUrl):\n",
    "    # Web URL\n",
    "    url = WebUrl\n",
    "    \n",
    "    # Plain HTML code\n",
    "    plain = requests.get(url).text\n",
    "    \n",
    "    # Parser\n",
    "    s = BeautifulSoup(plain, \"html.parser\")\n",
    "    \n",
    "    # Find and add product titles to array\n",
    "    for i in s.findAll('p',{'class':'title'}):\n",
    "        title.append(i.text.strip())\n",
    "        \n",
    "    # Find and add product price to aray    \n",
    "    for i in s.findAll('span',{'class':'final-price'}):\n",
    "        price.append(i.text.split()[0])"
   ]
  },
  {
   "cell_type": "code",
   "execution_count": 191,
   "metadata": {},
   "outputs": [],
   "source": [
    "# Run Web scrap function\n",
    "scrap('https://tiki.vn/dien-thoai-may-tinh-bang/c1789?src=mega-menu')"
   ]
  },
  {
   "cell_type": "code",
   "execution_count": 192,
   "metadata": {},
   "outputs": [],
   "source": [
    "# Create dataframe from arrays\n",
    "data = {'product':title,'price':price}\n",
    "df = pd.DataFrame(data)\n",
    "df"
   ]
  },
  {
   "cell_type": "markdown",
   "metadata": {},
   "source": [
    "## Next Steps\n",
    "- __Bring it to GCP!!__\n",
    "- Crawl through all __Smartphone__ product pages.\n",
    "- Add update time/date column\n",
    "- Visualize price change on datastudio"
   ]
  },
  {
   "cell_type": "code",
   "execution_count": null,
   "metadata": {},
   "outputs": [],
   "source": []
  }
 ],
 "metadata": {
  "kernelspec": {
   "display_name": "Python 3",
   "language": "python",
   "name": "python3"
  },
  "language_info": {
   "codemirror_mode": {
    "name": "ipython",
    "version": 3
   },
   "file_extension": ".py",
   "mimetype": "text/x-python",
   "name": "python",
   "nbconvert_exporter": "python",
   "pygments_lexer": "ipython3",
   "version": "3.7.3"
  }
 },
 "nbformat": 4,
 "nbformat_minor": 2
}
